{
 "cells": [
  {
   "cell_type": "code",
   "execution_count": 1,
   "metadata": {},
   "outputs": [
    {
     "name": "stderr",
     "output_type": "stream",
     "text": [
      "/datascope/slurm/miniconda3/envs/astro-dnn/lib/python3.7/site-packages/pysynphot/locations.py:46: UserWarning: PYSYN_CDBS is undefined; functionality will be SEVERELY crippled.\n",
      "  warnings.warn(\"PYSYN_CDBS is undefined; functionality will be SEVERELY \"\n",
      "/datascope/slurm/miniconda3/envs/astro-dnn/lib/python3.7/site-packages/pysynphot/locations.py:345: UserWarning: Extinction files not found in extinction\n",
      "  warnings.warn('Extinction files not found in %s' % (extdir, ))\n"
     ]
    }
   ],
   "source": [
    "import pandas as pd\n",
    "import numpy as np\n",
    "import matplotlib.pyplot as plt\n",
    "import numpy as np\n",
    "import matplotlib.pyplot as plt\n",
    "from astropy.io import fits\n",
    "from astroquery.vizier import Vizier\n",
    "Vizier.ROW_LIMIT = 50000\n",
    "from xshooter_synthmag import Filter, synthcolor"
   ]
  },
  {
   "cell_type": "markdown",
   "metadata": {},
   "source": [
    "## Loading in x-shooter data"
   ]
  },
  {
   "cell_type": "code",
   "execution_count": 2,
   "metadata": {},
   "outputs": [],
   "source": [
    "DATA_DIR = '/datascope/subaru/data/catalogs/xshooter/fits/'\n",
    "#directory of where xshooter files are\n",
    "\n",
    "#I've picked out a few stars from X-shooter to look at, here I list their names\n",
    "# and properties\n",
    "files_list = ['xsl_spectrum_X0422_merged.fits', #relatively metal-rich k-giant star ([Fe/H] ~ 0.2)\n",
    "             'xsl_spectrum_X0363_merged.fits', #metal-poor k-giant star ([Fe/H] ~ -2.4)\n",
    "            'xsl_spectrum_X0511_merged.fits', #AGB star ([Fe/H] ~ -0.4)\n",
    "            'xsl_spectrum_X0044_merged.fits', #M-giant ([Fe/H] ~ -0.1)\n",
    "            'xsl_spectrum_X0418_merged.fits', #metal-poor, 'chemically peculiar' g-giant ([Fe/H] ~ -2.3)\n",
    "            'xsl_spectrum_X0162_merged.fits', #metal-rich, g-giant ([Fe/H] ~0.1)\n",
    "            'xsl_spectrum_X0782_merged.fits', #metal-poor rr lyrae ([Fe/H] ~ -1.7)\n",
    "            'xsl_spectrum_X0639_merged.fits', #metal-poor BHB ([Fe/H] ~ -1.3)\n",
    "            'xsl_spectrum_X0390_merged.fits', #k-dwarf ([Fe/H] ~ -0.3)\n",
    "            'xsl_spectrum_X0831_merged.fits', #f-dwarf ([Fe/H] ~ -0.3)\n",
    "            'xsl_spectrum_X0382_merged.fits'] #g-dwarf ([Fe/H] ~ -0.4)\n",
    "name_list = ['metal-rich k-giant',\n",
    "            'metal-poor k-giant',\n",
    "            'AGB',\n",
    "            'm-giant',\n",
    "            'metal-poor g-giant',\n",
    "             'metal-rich g-giant',\n",
    "            'metal-poor RR lyrae',\n",
    "             'metal-poor BHB',\n",
    "             'k-dwarf',\n",
    "            'f-dwarf',\n",
    "            'g-dwarf']"
   ]
  },
  {
   "cell_type": "code",
   "execution_count": 3,
   "metadata": {},
   "outputs": [
    {
     "data": {
      "text/plain": [
       "SIMPLE  =                    T / conforms to FITS standard                      \n",
       "BITPIX  =                    8 / array data type                                \n",
       "NAXIS   =                    0 / number of array dimensions                     \n",
       "EXTEND  =                    T                                                  \n",
       "OBJECT  = 'HD004893'           / Machine-readable name of the star              \n",
       "HNAME   = 'HD 4893 '           / Human-readable name of the star                \n",
       "XSL_ID  = 'X0422   '           / X-shooter Spectral Library unique identifier   \n",
       "RA      =    12.34408333333333 / [deg] Spectroscopic target position (J2000)    \n",
       "DEC     =   -73.47866111111111 / [deg] Spectroscopic target position (J2000)    \n",
       "RA_FULL = '00:49:22.58'        / [HH:MM:SS.SS] Target position (J2000)          \n",
       "DEC_FULL= '-73:28:43.18'       / [DD:MM:SS.SS] Target position (J2000)          \n",
       "EQUINOX =               2000.0 / Standard FK5                                   \n",
       "RADECSYS= 'FK5     '           / Coordinate reference frame                     \n",
       "WAVELMIN=                350.0 / [nm] Minimum wavelength                        \n",
       "WAVELMAX=    2476.959103917098 / [nm] Maximum wavelength                        \n",
       "SPEC_BIN=  0.03625601472627799 / Average spectral coordinate bin size           \n",
       "CONTNORM=                    F / TRUE if normalised to the continuum            \n",
       "TOT_FLUX=                    F / TRUE if photometric conditions                 \n",
       "FLUXERR =                 -1.0 / Uncertainty in flux scale (%)                  \n",
       "SNR     =                 51.0 / Median signal-to-noise ratio                   \n",
       "SPEC_RES=               9774.0 / Reference spectral resolving power             \n",
       "ORIGIN  = 'ESO     '           / European Southern Observatory                  \n",
       "TELESCOP= 'ESO-VLT-U2'         / ESO Telescope designation                      \n",
       "INSTRUME= 'ESO     '           / Instrument used                                \n",
       "PROG_ID = '189.B-0925(A)'      / ESO program identification                     \n",
       "OBID1   =               723771 / Observation block ID                           \n",
       "M_EPOCH =                    F / True if combination of multiple epochs         \n",
       "SINGLEXP=                    F / True if resulting from single exposure         \n",
       "OBSTECH = 'ECHELLE,SLIT,NODDING' / Observation technique                        \n",
       "FLUXCAL = 'ABSOLUTE'           / Quality of flux calibration                    \n",
       "PRODCATG= 'SCIENCE.SPECTRUM'   / Single target 1-dimensional spectrum           \n",
       "PROCSOFT= 'xshoo/2.6.8'        / Pipeline (unique) identifier                   \n",
       "NCOMBINE=                    2 / Number of raw science data files combined      \n",
       "PROV1   = 'XSHOO.2012-08-04T07:24:14.512' / Originating raw science file        \n",
       "PROV2   = 'XSHOO.2012-08-04T07:23:19.438' / Originating raw science file        \n",
       "EXPTIME =             2.000004 / Integration time                               \n",
       "TEXPTIME=             2.000004 / Total integration time of all exposures        \n",
       "FWHM    =                 1.35 / Observatory seeing queried from AS             \n",
       "MJD-OBS =      56143.307863864 / Start of the observations                      \n",
       "MJD-END =     56143.3085128731 / End of the observations                        \n",
       "EXT_AVG =                    T / Two 1D-spectra averaged                        \n",
       "CAL_NAME= 'CAL0073_X0422_V_S_I.fits' / Internal name for the response curve     \n",
       "CAL_STAR= 'EG274 V11.03'       / Spectro-photometric standard star target       \n",
       "CAL_RAW1= 'XSHOO.2012-08-03T22:54:37.297' / Originating raw flux-standard file  \n",
       "CAL_RAW2= 'XSHOO.2012-08-03T22:58:58.249' / Originating raw flux-standard file  \n",
       "FLUX_COR=                    T / First flux calibration applied                 \n",
       "STA_NAME= 'X0422_V_S_F.fits'   / Internal name for the wide-slit spectrum       \n",
       "LOSS_COR=                    T / TRUE if correction for slit loss was applied   \n",
       "SPL_COR =                    F / TRUE if correction for the spectral shape with \n",
       "STA_RAW1= 'XSHOO.2012-08-04T07:22:04.992' / Originating raw wide-slit file      \n",
       "BARY_COR=               -0.417 / Barycentric radial velocity correction value   \n",
       "WAVY_UVB=                    F                                                  \n",
       "REST_VIS=                 42.8 / VIS cz value in km/s                           \n",
       "NOIS_VIS=                    F / Noisy VIS spectrum                             \n",
       "WAVY_VIS=                    F / Wavy in some part of the VIS spectrum          \n",
       "HAIR_VIS=                    F / Some narrow spikes in the VIS spectrum         \n",
       "HAIR_NIR=                    F                                                  \n",
       "WAVY_NIR=                    F                                                  \n",
       "ARM_ZERO=                    F / DR2 arm spectrum missing (zeros)               \n",
       "S_U_VAL =                 1.04 / UVB scaling factor value                       \n",
       "REST_UVB=                47.08 / UVB cz value in km/s                           \n",
       "S_U_ORI = 'interp. '           / UVB scaling factor origin                      \n",
       "S_N_VAL =   0.9399999999999999 / NIR scaling factor value                       \n",
       "REST_NIR=               42.628 / NIR cz value in km/s                           \n",
       "S_N_ORI = 'interp. '           / NIR scaling factor origin                      \n",
       "AV_VAL  =                  0.0 / Total extinction in V                          \n",
       "AV_ORI  = 'interp. '           / AV origin reference                            \n",
       "REFERENC= '' / Bibliographic reference                                          \n",
       "DATE    = '2022-01-07'         / Date this file was written                     \n",
       "CHECKSUM= 'DZVMDWUKDWUKDWUK'   / HDU checksum updated 2022-01-07T09:24:51       \n",
       "DATASUM = '0       '           / data unit checksum updated 2022-01-07T09:24:51 "
      ]
     },
     "execution_count": 3,
     "metadata": {},
     "output_type": "execute_result"
    }
   ],
   "source": [
    "#lets see what data is in one of the x-shooter files\n",
    "hdus = fits.open(DATA_DIR+'xsl_spectrum_X0422_merged.fits', memmap=False)\n",
    "hdus[0].header #hdus[1].header\n",
    "#from the header, we know that this star is named HD 4893. we can look this star\n",
    "# up by its name in vizier or simbad\n",
    "#and get information about its temperature and log(g) "
   ]
  },
  {
   "cell_type": "code",
   "execution_count": 4,
   "metadata": {},
   "outputs": [
    {
     "data": {
      "text/plain": [
       "FITS_rec([( 350.     , 1.2775197e-15, 1.2775197e-15, 1.2173860e-13),\n",
       "          ( 350.0117 , 1.1601396e-13, 1.1601396e-13, 1.2188833e-13),\n",
       "          ( 350.02335, 9.1615693e-15, 9.1615693e-15, 1.2084570e-13), ...,\n",
       "          (2476.794  , 1.4761918e-13, 1.4761918e-13, 3.4227975e-15),\n",
       "          (2476.8765 , 1.3909123e-13, 1.3909123e-13, 3.3573589e-15),\n",
       "          (2476.959  , 1.3779878e-13, 1.3779878e-13, 3.3491734e-15)],\n",
       "         dtype=(numpy.record, [('WAVE', '>f4'), ('FLUX', '>f4'), ('FLUX_DR', '>f4'), ('ERR', '>f4')]))"
      ]
     },
     "execution_count": 4,
     "metadata": {},
     "output_type": "execute_result"
    }
   ],
   "source": [
    "hdus[1].data #the data has wavelength, flux, deredened flux, and error in flux \n",
    "#we will want to use the de-reddened flux, i.e. flux_dr"
   ]
  },
  {
   "cell_type": "code",
   "execution_count": 5,
   "metadata": {},
   "outputs": [
    {
     "data": {
      "text/plain": [
       "Index(['HNAME', 'x', 'Teffuvb', 'logguvb', '__Fe_H_uvb', 'Teffvis', 'loggvis',\n",
       "       '__Fe_H_vis', 'Teff', 'e_Teff', 'logg', 'e_logg', '__Fe_H_', 'e__Fe_H_',\n",
       "       'f_Teff', 'f_logg', 'f__Fe_H_', 'Cflag', 'SimbadName', '_RA', '_DE'],\n",
       "      dtype='object')"
      ]
     },
     "execution_count": 5,
     "metadata": {},
     "output_type": "execute_result"
    }
   ],
   "source": [
    "#lets get the table that has all of the stellar atmospheric parameters, we can\n",
    "#then match the catalogue to our stars and find the log(g), [Fe/H] info for \n",
    "#each star\n",
    "#table is here: https://vizier.cds.unistra.fr/viz-bin/VizieR searching for catalog\n",
    "# named J/A+A/627/A138/tablea1\n",
    "table = Vizier.get_catalogs('J/A+A/627/A138/tablea1')\n",
    "stellar_params = table[0].to_pandas()\n",
    "stellar_params.columns #lets see what info we have"
   ]
  },
  {
   "cell_type": "code",
   "execution_count": 36,
   "metadata": {},
   "outputs": [
    {
     "data": {
      "text/plain": [
       "176   -0.42\n",
       "Name: __Fe_H_, dtype: float32"
      ]
     },
     "execution_count": 36,
     "metadata": {},
     "output_type": "execute_result"
    }
   ],
   "source": [
    "#now we can find which entry in the stellar params table matches our stars name\n",
    "#we'll do this by using .str.contains (to see if stellar param HNAME contains header HNAME, \n",
    "# allowing for their to be weird extra spaces etc) or stellar param HNAME == hdu HNAME to check\n",
    "# for if the HNAMEs are exactly equal!\n",
    "#note that not /all/ of the stars in x-shooter have a match in this data\n",
    "stellar_params[(stellar_params['HNAME'].str.contains(hdus[0].header['HNAME']))\n",
    "            |(stellar_params['HNAME']==hdus[0].header['HNAME'])]['__Fe_H_']"
   ]
  },
  {
   "cell_type": "markdown",
   "metadata": {},
   "source": [
    "# lets make some synthetic colors!"
   ]
  },
  {
   "cell_type": "code",
   "execution_count": 7,
   "metadata": {},
   "outputs": [],
   "source": [
    "#loading in our filters\n",
    "filt_g = Filter()\n",
    "filt_g.read('/datascope/subaru/data/pfsspec/subaru/hsc/filters/fHSC-g.txt')\n",
    "\n",
    "filt_i = Filter()\n",
    "filt_i.read('/datascope/subaru/data/pfsspec/subaru/hsc/filters/fHSC-i.txt')\n",
    "\n",
    "\n",
    "filt_nb515 = Filter()\n",
    "filt_nb515.read('/datascope/subaru/data/pfsspec/subaru/hsc/filters/fHSC-NB515.txt')\n"
   ]
  },
  {
   "cell_type": "code",
   "execution_count": 8,
   "metadata": {},
   "outputs": [
    {
     "name": "stdout",
     "output_type": "stream",
     "text": [
      "Warning, 268 of 58666 bins contained negative fluxes; they have been set to zero.\n",
      "Warning, 268 of 58666 bins contained negative fluxes; they have been set to zero.\n"
     ]
    }
   ],
   "source": [
    "#synthcolor takes your xshooter data (here hdus[1]), two filters, and deredening\n",
    "#argument. Here, we want to use dered = True. Synthcolor will return\n",
    "# the color filter_1 - filter_2\n",
    "g_i = synthcolor(hdus[1], filt_g, filt_i, dered=True)\n",
    "nb_g = synthcolor(hdus[1], filt_nb515, filt_g, dered=True)"
   ]
  },
  {
   "cell_type": "code",
   "execution_count": 37,
   "metadata": {},
   "outputs": [
    {
     "name": "stdout",
     "output_type": "stream",
     "text": [
      "star  HD 126053  has [Fe/H] of  -0.42  and log(g) of 4.24  and g-i color of  0.5459888784479663  and NB515 - g color of  -0.09775132059381342\n"
     ]
    }
   ],
   "source": [
    "print('star ', \n",
    "    hdus[0].header['HNAME'],\n",
    "    ' has [Fe/H] of ',\n",
    "    stellar_params[(stellar_params['HNAME'].str.contains(hdus[0].header['HNAME']))\n",
    "            |(stellar_params['HNAME']==hdus[0].header['HNAME'])]['__Fe_H_'].values[0],\n",
    "    ' and log(g) of',\n",
    "    stellar_params[(stellar_params['HNAME'].str.contains(hdus[0].header['HNAME']))\n",
    "            |(stellar_params['HNAME']==hdus[0].header['HNAME'])]['logg'].values[0],\n",
    "    ' and g-i color of ', g_i, ' and NB515 - g color of ',\n",
    "    nb_g)"
   ]
  },
  {
   "cell_type": "code",
   "execution_count": 34,
   "metadata": {},
   "outputs": [
    {
     "name": "stdout",
     "output_type": "stream",
     "text": [
      "looking at  metal-rich k-giant\n",
      "Warning, 268 of 58666 bins contained negative fluxes; they have been set to zero.\n",
      "Warning, 268 of 58666 bins contained negative fluxes; they have been set to zero.\n",
      "looking at  metal-poor k-giant\n",
      "Warning, 193 of 58666 bins contained negative fluxes; they have been set to zero.\n",
      "Warning, 193 of 58666 bins contained negative fluxes; they have been set to zero.\n",
      "looking at  AGB\n",
      "Warning, 1938 of 58666 bins contained negative fluxes; they have been set to zero.\n",
      "Warning, 1938 of 58666 bins contained negative fluxes; they have been set to zero.\n",
      "looking at  m-giant\n",
      "Warning, 1248 of 58663 bins contained negative fluxes; they have been set to zero.\n",
      "Warning, 1248 of 58663 bins contained negative fluxes; they have been set to zero.\n",
      "looking at  metal-poor g-giant\n",
      "Warning, 83 of 58666 bins contained negative fluxes; they have been set to zero.\n",
      "Warning, 83 of 58666 bins contained negative fluxes; they have been set to zero.\n",
      "looking at  metal-rich g-giant\n",
      "Warning, 295 of 58666 bins contained negative fluxes; they have been set to zero.\n",
      "Warning, 295 of 58666 bins contained negative fluxes; they have been set to zero.\n",
      "looking at  metal-poor RR lyrae\n",
      "Warning, 45 of 58666 bins contained negative fluxes; they have been set to zero.\n",
      "Warning, 45 of 58666 bins contained negative fluxes; they have been set to zero.\n",
      "looking at  metal-poor BHB\n",
      "Warning, 86 of 58666 bins contained negative fluxes; they have been set to zero.\n",
      "Warning, 86 of 58666 bins contained negative fluxes; they have been set to zero.\n",
      "looking at  k-dwarf\n",
      "Warning, 154 of 58666 bins contained negative fluxes; they have been set to zero.\n",
      "Warning, 154 of 58666 bins contained negative fluxes; they have been set to zero.\n",
      "looking at  f-dwarf\n",
      "Warning, 34 of 58666 bins contained negative fluxes; they have been set to zero.\n",
      "Warning, 34 of 58666 bins contained negative fluxes; they have been set to zero.\n",
      "looking at  g-dwarf\n",
      "Warning, 266 of 58666 bins contained negative fluxes; they have been set to zero.\n",
      "Warning, 266 of 58666 bins contained negative fluxes; they have been set to zero.\n"
     ]
    }
   ],
   "source": [
    "#lets do compute colors for all of the stars that we found above, and see where they \n",
    "# are on the color-color plots\n",
    "fehs = np.array([])\n",
    "teffs = np.array([])\n",
    "loggs = np.array([])\n",
    "g_i_color = np.array([])\n",
    "nb_g_color = np.array([])\n",
    "\n",
    "\n",
    "for i in range(len(files_list)):\n",
    "    fn = os.path.join(DATA_DIR, files_list[i])\n",
    "    hdus = fits.open(fn, memmap=False)\n",
    "    print('looking at ', name_list[i])\n",
    "    #get all the stellar param info\n",
    "    logg = stellar_params[(stellar_params['HNAME'].str.contains(hdus[0].header['HNAME']))\n",
    "            |(stellar_params['HNAME']==hdus[0].header['HNAME'])].logg.mean()\n",
    "    loggs = np.append(loggs, logg)\n",
    "    teff = stellar_params[(stellar_params['HNAME'].str.contains(hdus[0].header['HNAME']))\n",
    "            |(stellar_params['HNAME']==hdus[0].header['HNAME'])].Teff.mean()\n",
    "    teffs = np.append(teffs, teff)\n",
    "    feh = stellar_params[(stellar_params['HNAME'].str.contains(hdus[0].header['HNAME']))\n",
    "            |(stellar_params['HNAME']==hdus[0].header['HNAME'])]['__Fe_H_'].mean()\n",
    "    fehs = np.append(fehs, feh)\n",
    "    #synth_g = synthmagnoR(hdus[1], filt_g, dered=False)\n",
    "    #synth_i = synthmagnoR(hdus[1], filt_i, dered=False)\n",
    "    #synth_nb = synthmagnoR(hdus[1], filt_nb515, dered=False)\n",
    "\n",
    "    g_i = synthcolor(hdus[1], filt_g, filt_i, dered=True)\n",
    "    nb_g = synthcolor(hdus[1], filt_nb515, filt_g, dered=True)\n",
    "    g_i_color = np.append(g_i_color, g_i)\n",
    "    nb_g_color = np.append(nb_g_color, nb_g)\n",
    "    \n"
   ]
  },
  {
   "cell_type": "code",
   "execution_count": 47,
   "metadata": {},
   "outputs": [
    {
     "data": {
      "text/plain": [
       "(         HNAME    x  Teffuvb  logguvb  __Fe_H_uvb  Teffvis  loggvis  \\\n",
       " 28  BD+09 2870  363     4664     1.47       -2.34     4643     1.49   \n",
       " \n",
       "     __Fe_H_vis  Teff  e_Teff  ...  e_logg  __Fe_H_  e__Fe_H_  f_Teff  f_logg  \\\n",
       " 28       -2.37  4664      51  ...    0.15    -2.34      0.07    <NA>    <NA>   \n",
       " \n",
       "     f__Fe_H_  Cflag  SimbadName        _RA      _DE  \n",
       " 28      <NA>   <NA>  BD+09 2870  214.12479  8.46472  \n",
       " \n",
       " [1 rows x 21 columns],\n",
       " True)"
      ]
     },
     "execution_count": 47,
     "metadata": {},
     "output_type": "execute_result"
    }
   ],
   "source": [
    "fn = os.path.join(DATA_DIR, files_list[1])\n",
    "hdus = fits.open(fn, memmap=False)\n",
    "stellar_params[stellar_params['HNAME'].str.contains(hdus[0].header['HNAME'])]#.Teff\n",
    "\n",
    "stellar_params[(stellar_params['HNAME'].str.contains(hdus[0].header['HNAME']))\n",
    "            |(stellar_params['HNAME']==hdus[0].header['HNAME'])]\n",
    "#hdus[0].header['HNAME'][-4:]\n",
    "stellar_params[stellar_params['HNAME'].str.contains(hdus[0].header['HNAME'], regex=False)],stellar_params.iloc[28]['HNAME'] == hdus[0].header['HNAME']\n"
   ]
  },
  {
   "cell_type": "code",
   "execution_count": 35,
   "metadata": {},
   "outputs": [
    {
     "data": {
      "text/plain": [
       "<matplotlib.colorbar.Colorbar at 0x7fd8e75c6690>"
      ]
     },
     "execution_count": 35,
     "metadata": {},
     "output_type": "execute_result"
    },
    {
     "data": {
      "image/png": "[encoded data removed]",
      "text/plain": [
       "<Figure size 2160x720 with 6 Axes>"
      ]
     },
     "metadata": {
      "needs_background": "light"
     },
     "output_type": "display_data"
    }
   ],
   "source": [
    "#plotting, color-coded by logg, metallicity, temp\n",
    "fig, (ax1, ax2, ax3) = plt.subplots(1,3,figsize=(30,10))\n",
    "c1 = ax1.scatter(g_i_color, nb_g_color, c=loggs,cmap='copper')\n",
    "ax1.set_xlim(-0.5, 4)\n",
    "ax1.set_ylim(0.8,-0.8)\n",
    "ax1.set_xlabel('$(g-i)_0$')\n",
    "ax1.set_ylabel('$(NB515 - g)_0$')\n",
    "\n",
    "c2 = ax2.scatter(g_i_color, nb_g_color, c=fehs,cmap='jet')\n",
    "ax2.set_xlim(-0.5, 4)\n",
    "ax2.set_ylim(0.8,-0.8)\n",
    "ax2.set_xlabel('$(g-i)_0$')\n",
    "ax2.set_ylabel('$(NB515 - g)_0$')\n",
    "\n",
    "c3 = ax3.scatter(g_i_color, nb_g_color, c=teffs,cmap='cool_r')\n",
    "ax3.set_xlim(-0.5, 4)\n",
    "ax3.set_ylim(0.8,-0.8)\n",
    "ax3.set_xlabel('$(g-i)_0$')\n",
    "ax3.set_ylabel('$(NB515 - g)_0$')\n",
    "\n",
    "fig.colorbar(c1, ax=ax1, orientation = 'vertical', label='log(g)')\n",
    "fig.colorbar(c2, ax=ax2, orientation = 'vertical', label='[Fe/H]')\n",
    "fig.colorbar(c3, ax=ax3, orientation = 'vertical', label='Teff')"
   ]
  },
  {
   "cell_type": "markdown",
   "metadata": {},
   "source": [
    "## Next, lets look at /all/ of the stars with x-shooter spectra. We should look up the stars in Simbad that do NOT have stellar parameter information in the table from Vizier (we can look them up by their HNAME - they should all be on Simbad!) and we should also identify the stars with multiple entries. We should make a separate file with the stars without stellar parameter estimates, and add in parameter info as we find it (we should also note if they are 'weird' stars, like mira variables!). We can use the stars with multiple entries to better understand the precision and errors of our synthetic colors - it would be useful to know what kind of star each star with duplicate entries is, too!\n",
    "\n",
    "### ( we can search for each of the stars on simbad, following this link http://simbad.u-strasbg.fr/simbad/ and putting the HNAME from the data file header into the 'basic search' bar)"
   ]
  },
  {
   "cell_type": "markdown",
   "metadata": {},
   "source": []
  }
 ],
 "metadata": {
  "kernelspec": {
   "display_name": "Python 3.7.6 64-bit ('astro-dnn')",
   "language": "python",
   "name": "python3"
  },
  "language_info": {
   "codemirror_mode": {
    "name": "ipython",
    "version": 3
   },
   "file_extension": ".py",
   "mimetype": "text/x-python",
   "name": "python",
   "nbconvert_exporter": "python",
   "pygments_lexer": "ipython3",
   "version": "3.7.6"
  },
  "orig_nbformat": 4,
  "vscode": {
   "interpreter": {
    "hash": "9cb44f830a876adeb009fabd6828bbb3158e92650809e090fadf036cd330327f"
   }
  }
 },
 "nbformat": 4,
 "nbformat_minor": 2
}
